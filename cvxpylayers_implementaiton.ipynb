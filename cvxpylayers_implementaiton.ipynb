{
  "cells": [
    {
      "cell_type": "markdown",
      "metadata": {
        "id": "view-in-github",
        "colab_type": "text"
      },
      "source": [
        "<a href=\"https://colab.research.google.com/github/tyler55792/Differentiable-optimization-layers-in-PyTorch/blob/main/cvxpylayers_implementaiton.ipynb\" target=\"_parent\"><img src=\"https://colab.research.google.com/assets/colab-badge.svg\" alt=\"Open In Colab\"/></a>"
      ]
    },
    {
      "cell_type": "code",
      "execution_count": null,
      "metadata": {
        "id": "aBUxRVMl0KUj"
      },
      "outputs": [],
      "source": [
        "pip install cvxpylayers"
      ]
    },
    {
      "cell_type": "code",
      "execution_count": null,
      "metadata": {
        "id": "WN17jIZg0rPG"
      },
      "outputs": [],
      "source": [
        "import numpy as np\n",
        "import numpy.random as npr\n",
        "\n",
        "import torch\n",
        "from torch import nn\n",
        "import torch.nn.functional as F\n",
        "\n",
        "import os\n",
        "import sys\n",
        "import shutil\n",
        "\n",
        "import matplotlib.pyplot as plt\n",
        "import matplotlib as mpl\n",
        "from matplotlib import cm\n",
        "plt.style.use('bmh')\n",
        "from matplotlib import rc\n",
        "# rc('font',**{'family':'sans-serif','sans-serif':['Helvetica']})\n",
        "# rc('text', usetex=True)\n",
        "\n",
        "import cvxpy as cp\n",
        "from cvxpylayers.torch import CvxpyLayer\n"
      ]
    },
    {
      "cell_type": "markdown",
      "metadata": {
        "id": "LUfuwmSSDf2M"
      },
      "source": [
        "The water-filling problem is used to determine optimal power allocation for a multidimensional communication channel and is pictured below. θ<sub>d</sub>, ω<sub>d</sub>, and ω<sub>D+1</sub> are learnable parameters, u<sub>d</sub> is the input into the layer, x<sub>d</sub> is the optimization variable, and D is the dimension of the problem."
      ]
    },
    {
      "cell_type": "markdown",
      "metadata": {
        "id": "n0hIUfi6NEdm"
      },
      "source": [
        "![Water Filling Problem.jpg](data:image/jpeg;base64,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)"
      ]
    },
    {
      "cell_type": "markdown",
      "metadata": {
        "id": "qTrNfFWTOUTg"
      },
      "source": [
        "First we implement this optimization problem using cvxpy"
      ]
    },
    {
      "cell_type": "code",
      "execution_count": null,
      "metadata": {
        "id": "9Iz8rK7PO46O"
      },
      "outputs": [],
      "source": [
        "D = 50\n",
        "\n",
        "theta = cp.Parameter(D, pos = True)\n",
        "omega = cp.Parameter(D, pos = True)\n",
        "w1 = cp.Parameter(1)\n",
        "u = cp.Parameter(D)\n",
        "\n",
        "x = cp.Variable(D, pos = True)\n",
        "x_plus_u = cp.Variable(D)   # in the objective function, cp.log(_x + _u) must be parameter free in order to be affine under DPP\n",
        "\n",
        "obj = cp.Maximize(cp.sum(theta @ cp.log(x_plus_u)))\n",
        "cons = [cp.sum(omega @ x) == w1, x_plus_u == x + u, x >= 0]\n",
        "prob = cp.Problem(obj, cons)\n",
        "\n",
        "layer_truth = CvxpyLayer(prob, parameters=[theta, omega, w1, u], variables=[x])\n"
      ]
    },
    {
      "cell_type": "markdown",
      "metadata": {
        "id": "7ReAQpAGRl1i"
      },
      "source": [
        "Then we randomly generate an instance of the optimization problem by creating arbitrary vectors θ<sub>d</sub> (theta), ω<sub>d</sub> (omega), and ω<sub>D+1</sub> (w1) as the ground truth parameters. This ground truth instance will then be used to generate the training data."
      ]
    },
    {
      "cell_type": "code",
      "execution_count": null,
      "metadata": {
        "id": "fg_s9U23jPMB"
      },
      "outputs": [],
      "source": [
        "theta = torch.FloatTensor(np.random.uniform(low=1.0, high=1.1, size=D))\n",
        "omega = torch.FloatTensor(np.random.uniform(low=1.0, high=1.1, size=D))\n",
        "w1 = torch.FloatTensor(np.random.uniform(low=1.0, high=1.1, size=1))"
      ]
    },
    {
      "cell_type": "markdown",
      "metadata": {
        "id": "Ayf7dBLslDGn"
      },
      "source": [
        "Cvxpylayers is then used to fit a qudratic program (QP) to the water filling program. To do this, the QP will first be implemented in CVXPY."
      ]
    },
    {
      "cell_type": "markdown",
      "metadata": {
        "id": "Xa1Q-8o9w9fd"
      },
      "source": [
        "![image.png](data:image/png;base64,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)"
      ]
    },
    {
      "cell_type": "code",
      "execution_count": null,
      "metadata": {
        "id": "GdfDl6SUllIz"
      },
      "outputs": [],
      "source": [
        "ncon = 1\n",
        "\n",
        "u = cp.Parameter(D)\n",
        "gamma_hat = cp.Parameter(D)\n",
        "A_hat = cp.Parameter([ncon,D])\n",
        "b_hat = cp.Parameter(ncon)\n",
        "\n",
        "x_hat = cp.Variable(D)\n",
        "x_plus_u_hat = cp.Variable(D)\n",
        "\n",
        "Q_sqrt_hat = cp.Parameter([D,D], symmetric=True)\n",
        "\n",
        "obj_fit = cp.Minimize((1/2)*cp.sum_squares(Q_sqrt_hat @ x_plus_u_hat) + gamma_hat @ x_plus_u_hat)\n",
        "cons_fit = [A_hat @ x == b_hat, x_plus_u_hat == x_hat + u, x_hat >= 0]\n",
        "prob_fit = cp.Problem(obj_fit, cons_fit)\n",
        "\n",
        "layer_fit = CvxpyLayer(prob_fit, parameters=[u, gamma_hat, A_hat, b_hat, Q_sqrt_hat], variables=[x_hat])"
      ]
    },
    {
      "cell_type": "markdown",
      "metadata": {
        "id": "wwmPmKByngnc"
      },
      "source": [
        "Next, we initialize new parameters for our learning problem."
      ]
    },
    {
      "cell_type": "code",
      "execution_count": null,
      "metadata": {
        "id": "H-oILNQ-XHcl"
      },
      "outputs": [],
      "source": [
        "import scipy.linalg\n",
        "\n",
        "gamma_hat = nn.Parameter(torch.FloatTensor(np.random.uniform(low=1.0, high=1.1, size=D)))\n",
        "A_hat = nn.Parameter(torch.FloatTensor(np.random.uniform(low=1.0, high=1.1, size=(ncon,D))))\n",
        "\n",
        "z0 = torch.full([D], 0.17)\n",
        "s0 = torch.full([ncon], 0.17)\n",
        "b_hat = A_hat.mv(z0)+s0\n",
        "\n",
        "L = np.random.uniform(low=1.0, high=1.1, size=(D,D))\n",
        "Q = L.T @ L\n",
        "Q_sqrt_hat = nn.Parameter(torch.FloatTensor(scipy.linalg.sqrtm(Q)))"
      ]
    },
    {
      "cell_type": "markdown",
      "metadata": {
        "id": "zX8sWhn_Y0Wp"
      },
      "source": [
        "Then we learn parameters of the quadratic program using Cvxpylayers. For each iteration, we generate a random input u and then solve the ground truth optimization problem for the output x. Then we solve the learning problem for its output x_hat and differentiate the output with respect to its parameters and use this for learning."
      ]
    },
    {
      "cell_type": "code",
      "execution_count": null,
      "metadata": {
        "id": "MG7cUqywe6KC"
      },
      "outputs": [],
      "source": [
        "opt = torch.optim.Adam([gamma_hat, A_hat, Q_sqrt_hat], lr=100)\n",
        "losses = []\n",
        "\n",
        "for i in range(1000):\n",
        "  u = torch.FloatTensor(np.random.uniform(low=1.0, high=2.0, size=D))\n",
        "  x, = layer_truth(theta, omega, w1, u)\n",
        "\n",
        "  b_hat = A_hat.mv(z0)+s0\n",
        "  x_hat, = layer_fit(u, gamma_hat, A_hat, b_hat, Q_sqrt_hat)\n",
        "  loss = (x_hat-x).norm()\n",
        "  losses.append(loss)\n",
        "\n",
        "  opt.zero_grad()\n",
        "  loss.backward()\n",
        "  opt.step()"
      ]
    },
    {
      "cell_type": "markdown",
      "metadata": {
        "id": "Gvpa8GIqT-KR"
      },
      "source": [
        "Plot loss vs iteration"
      ]
    },
    {
      "cell_type": "code",
      "execution_count": null,
      "metadata": {
        "colab": {
          "base_uri": "https://localhost:8080/",
          "height": 407
        },
        "id": "FZj98kQHUElK",
        "outputId": "671899ab-f884-4d81-b0a7-b73c3db6c0b1"
      },
      "outputs": [
        {
          "output_type": "execute_result",
          "data": {
            "text/plain": [
              "(0.0, 100.63450353050231)"
            ]
          },
          "metadata": {},
          "execution_count": 17
        },
        {
          "output_type": "display_data",
          "data": {
            "text/plain": [
              "<Figure size 600x400 with 1 Axes>"
            ],
            "image/png": "[encoded data removed]"
          },
          "metadata": {}
        }
      ],
      "source": [
        "fig, ax = plt.subplots(1, 1, figsize=(6,4))\n",
        "N = 100\n",
        "xs = np.arange(N-1, len(losses))\n",
        "ys = np.convolve(torch.tensor(losses).detach().numpy(), np.full(N, 1./N), mode='valid')\n",
        "\n",
        "ax.plot(xs, ys)\n",
        "ax.set_xlabel('Iteration')\n",
        "ax.set_ylabel('Rolling Loss')\n",
        "ax.set_ylim(0, None)\n"
      ]
    },
    {
      "cell_type": "markdown",
      "metadata": {
        "id": "5n68eCh_N1ky"
      },
      "source": [
        "The rolling loss is represented as the Euclidean norm (L2 norm) of the difference vector between the cvxpylayers learning problem and the ground-truth solution. The decrease of the rolling loss over iterations represents the learning of the parameters within the optimization problem and convergence to a reasonable solution. With the parameters of the cvxpylayers optimization layer now learned, they are then evaluated using test input/output cases generated from the ground truth model."
      ]
    },
    {
      "cell_type": "code",
      "execution_count": null,
      "metadata": {
        "id": "bYPNRBJNOC7q",
        "colab": {
          "base_uri": "https://localhost:8080/"
        },
        "outputId": "a242ea4b-2840-4df1-eedc-bc672a25cd0f"
      },
      "outputs": [
        {
          "output_type": "stream",
          "name": "stdout",
          "text": [
            "tensor(68.8639, grad_fn=<DivBackward0>)\n"
          ]
        }
      ],
      "source": [
        "numPoints = 300\n",
        "sumLoss = 0\n",
        "\n",
        "for i in range(numPoints):\n",
        "  u = torch.FloatTensor(np.random.uniform(low=1.0, high=2.0, size=D))\n",
        "  x, = layer_truth(theta, omega, w1, u)\n",
        "  x_hat, = layer_fit(u, gamma_hat, A_hat, b_hat, Q_sqrt_hat)\n",
        "\n",
        "  sumLoss += (x_hat-x).norm(1)\n",
        "\n",
        "#loss norm average\n",
        "print(sumLoss/numPoints)"
      ]
    },
    {
      "cell_type": "markdown",
      "source": [
        "The test cases demonstrate that cvxpylayers successfully solved the water-filling optimization problem with a L1 loss norm of 68.86. Future work with this project should explore the use of alternative objective functions in the learning problem. Improvements over the quadratic objective function could lead to a better fitting solution."
      ],
      "metadata": {
        "id": "TZvi9788u32X"
      }
    }
  ],
  "metadata": {
    "colab": {
      "provenance": [],
      "authorship_tag": "ABX9TyNIXrbRxokz5kEX69spwqte",
      "include_colab_link": true
    },
    "kernelspec": {
      "display_name": "Python 3",
      "name": "python3"
    },
    "language_info": {
      "name": "python"
    }
  },
  "nbformat": 4,
  "nbformat_minor": 0
}